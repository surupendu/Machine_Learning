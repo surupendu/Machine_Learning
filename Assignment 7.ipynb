{
 "cells": [
  {
   "cell_type": "code",
   "execution_count": 1,
   "metadata": {
    "collapsed": true
   },
   "outputs": [],
   "source": [
    "import numpy as np\n",
    "import scipy.io as sc\n",
    "import matplotlib.pyplot as plt\n",
    "import matplotlib.image as mpimg"
   ]
  },
  {
   "cell_type": "code",
   "execution_count": 2,
   "metadata": {
    "collapsed": true
   },
   "outputs": [],
   "source": [
    "mat = sc.loadmat('D:/PRML lab/mnist_all.mat')"
   ]
  },
  {
   "cell_type": "code",
   "execution_count": 3,
   "metadata": {
    "collapsed": true
   },
   "outputs": [],
   "source": [
    "train3 = mat.get('train3')\n",
    "train8 = mat.get('train8')"
   ]
  },
  {
   "cell_type": "code",
   "execution_count": 4,
   "metadata": {},
   "outputs": [
    {
     "name": "stdout",
     "output_type": "stream",
     "text": [
      "(100, 784)\n",
      "(100, 784)\n",
      "(200, 784)\n"
     ]
    }
   ],
   "source": [
    "index3 = np.random.randint(6131,size=100)\n",
    "index8 = np.random.randint(5851,size=100)\n",
    "\n",
    "Train_data1 = train3[index3,:]\n",
    "Train_data2 = train8[index8,:]\n",
    "\n",
    "print(Train_data1.shape)\n",
    "print(Train_data2.shape)\n",
    "\n",
    "Train_Data = np.concatenate((Train_data1,Train_data2),axis=0)\n",
    "print(Train_Data.shape)\n",
    "Mean = np.mean(Train_Data,axis=0)\n",
    "Mean.shape\n",
    "Train_Data = np.subtract(Train_Data,Mean)"
   ]
  },
  {
   "cell_type": "code",
   "execution_count": 5,
   "metadata": {},
   "outputs": [
    {
     "name": "stdout",
     "output_type": "stream",
     "text": [
      "(10, 784)\n",
      "(10, 784)\n",
      "(20, 784)\n"
     ]
    }
   ],
   "source": [
    "index3 = np.random.randint(6131,size=10)\n",
    "index8 = np.random.randint(5851,size=10)\n",
    "\n",
    "Test_data1 = train3[index3,:]\n",
    "Test_data2 = train8[index8,:]\n",
    "\n",
    "print(Test_data1.shape)\n",
    "print(Test_data2.shape)\n",
    "\n",
    "Test_Data = np.concatenate((Test_data1,Test_data2),axis=0)\n",
    "print(Test_Data.shape)\n",
    "Mean = np.mean(Test_Data,axis=0)\n",
    "Mean.shape\n",
    "Test_Data = np.subtract(Test_Data,Mean)"
   ]
  },
  {
   "cell_type": "code",
   "execution_count": 6,
   "metadata": {
    "collapsed": true
   },
   "outputs": [],
   "source": [
    "Train_Data = Train_Data.astype(np.double)\n",
    "Cov = np.matmul(np.transpose(Train_Data),Train_Data)\n",
    "eigen_value,eigen_vector = np.linalg.eig(Cov)\n",
    "vector = np.abs(eigen_vector)[:,0:5]"
   ]
  },
  {
   "cell_type": "code",
   "execution_count": 7,
   "metadata": {
    "collapsed": true
   },
   "outputs": [],
   "source": [
    "y = np.matmul(Train_Data,vector)"
   ]
  },
  {
   "cell_type": "code",
   "execution_count": 8,
   "metadata": {
    "collapsed": true
   },
   "outputs": [],
   "source": [
    "test = np.matmul(Test_Data,vector)"
   ]
  },
  {
   "cell_type": "code",
   "execution_count": 9,
   "metadata": {
    "collapsed": true
   },
   "outputs": [],
   "source": [
    "label = np.zeros(200)\n",
    "label[0:100] = 3\n",
    "label[100:200] = 8\n",
    "\n",
    "test_label = np.zeros(20)\n",
    "test_label[0:10] = 3\n",
    "test_label[10:20] = 8"
   ]
  },
  {
   "cell_type": "markdown",
   "metadata": {},
   "source": [
    "# <center>Logistic Regression</center>"
   ]
  },
  {
   "cell_type": "code",
   "execution_count": 10,
   "metadata": {
    "collapsed": true
   },
   "outputs": [],
   "source": [
    "from sklearn.linear_model import LogisticRegression\n",
    "\n",
    "lg = LogisticRegression(fit_intercept=True)\n",
    "fit = lg.fit(y,label)\n",
    "bias = fit.intercept_\n",
    "coef = fit.coef_\n",
    "#pred = lg.predict(test)"
   ]
  },
  {
   "cell_type": "code",
   "execution_count": 11,
   "metadata": {},
   "outputs": [],
   "source": [
    "fiting = np.matmul(test,np.transpose(coef)) + bias\n",
    "prob = 1/(1 + np.exp(-fiting))\n",
    "predicted_label = []\n",
    "for i in range(len(prob)):\n",
    "    if prob[i]>0.5:\n",
    "        predicted_label = np.append(predicted_label,8)\n",
    "    elif prob[i]<=0.5:\n",
    "        predicted_label = np.append(predicted_label,3)"
   ]
  },
  {
   "cell_type": "code",
   "execution_count": 12,
   "metadata": {},
   "outputs": [
    {
     "name": "stdout",
     "output_type": "stream",
     "text": [
      "Accuracy after Logistic Regression: 0.85\n"
     ]
    }
   ],
   "source": [
    "from sklearn.metrics import accuracy_score\n",
    "print('Accuracy after Logistic Regression:',accuracy_score(predicted_label,test_label))"
   ]
  },
  {
   "cell_type": "markdown",
   "metadata": {},
   "source": [
    "# <center>K Nearest Neighbors</center>"
   ]
  },
  {
   "cell_type": "code",
   "execution_count": 13,
   "metadata": {
    "collapsed": true
   },
   "outputs": [],
   "source": [
    "from sklearn.neighbors import KNeighborsClassifier\n",
    "\n",
    "knn = KNeighborsClassifier(n_neighbors=6)\n",
    "knn.fit(y,label)\n",
    "pred = knn.predict(test)"
   ]
  },
  {
   "cell_type": "code",
   "execution_count": 14,
   "metadata": {},
   "outputs": [
    {
     "name": "stdout",
     "output_type": "stream",
     "text": [
      "Accuracy after KNN: 0.5\n"
     ]
    }
   ],
   "source": [
    "print('Accuracy after KNN:',accuracy_score(pred,test_label))"
   ]
  }
 ],
 "metadata": {
  "kernelspec": {
   "display_name": "Python 3",
   "language": "python",
   "name": "python3"
  },
  "language_info": {
   "codemirror_mode": {
    "name": "ipython",
    "version": 3
   },
   "file_extension": ".py",
   "mimetype": "text/x-python",
   "name": "python",
   "nbconvert_exporter": "python",
   "pygments_lexer": "ipython3",
   "version": "3.6.3"
  }
 },
 "nbformat": 4,
 "nbformat_minor": 2
}
